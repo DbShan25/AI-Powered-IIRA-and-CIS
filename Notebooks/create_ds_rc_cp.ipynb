{
 "cells": [
  {
   "cell_type": "code",
   "execution_count": 1,
   "id": "e5e2a881-3505-40bc-b81f-8af10efe57f4",
   "metadata": {},
   "outputs": [],
   "source": [
    "import pandas as pd\n",
    "import numpy as np"
   ]
  },
  {
   "cell_type": "code",
   "execution_count": 2,
   "id": "3859c09e-c30d-4b44-bad5-68fad8ef7498",
   "metadata": {},
   "outputs": [],
   "source": [
    "# Set seed for reproducibility\n",
    "np.random.seed(42)\n",
    "n = 100000  # Number of records\n",
    "\n",
    "# ------------------ Base Data ------------------\n",
    "df = pd.DataFrame({\n",
    "    \"Policy_ID\": [f\"POL{100000 + i}\" for i in range(n)],\n",
    "    \"Customer_Age\": np.random.randint(18, 70, size=n),\n",
    "    \"Gender\": np.random.choice([\"Male\", \"Female\"], size=n, p=[0.50, 0.50]),\n",
    "    \"Policy_Type\": np.random.choice([\"Health\", \"Auto\", \"Life\", \"Property\"], size=n, p=[0.3, 0.3, 0.2, 0.2]),\n",
    "    \"Annual_Income\": np.random.normal(60000, 20000, size=n).clip(15000, 200000).round(2),\n",
    "    \"Property_Age\": np.random.randint(0, 20, size=n),\n",
    "    \"Claim_History\": np.random.poisson(lam=1.2, size=n)\n",
    "})"
   ]
  },
  {
   "cell_type": "code",
   "execution_count": 3,
   "id": "5e45b08d-53c6-49f1-b330-3a22c3c51f56",
   "metadata": {},
   "outputs": [],
   "source": [
    "# ------------------ Property Age Fix ------------------\n",
    "# Property_Age > 0 for Auto and Property; 0 otherwise\n",
    "df[\"Property_Age\"] = df.apply(\n",
    "    lambda x: np.random.randint(1, 20) if x[\"Policy_Type\"] in [\"Auto\", \"Property\"] else 0,\n",
    "    axis=1\n",
    ")"
   ]
  },
  {
   "cell_type": "code",
   "execution_count": 4,
   "id": "4a21aca3-f2de-46e2-9482-39ae60005cac",
   "metadata": {},
   "outputs": [],
   "source": [
    "# ------------------ Risk Score ------------------\n",
    "conditions = [\n",
    "    (df[\"Claim_History\"] >= 3) | (df[\"Property_Age\"] > 15),\n",
    "    (df[\"Claim_History\"] == 2),\n",
    "    (df[\"Claim_History\"] <= 1) & (df[\"Property_Age\"] < 10)\n",
    "]\n",
    "choices = [\"High\", \"Medium\", \"Low\"]\n",
    "df[\"Risk_Score\"] = np.select(conditions, choices, default=\"High\")"
   ]
  },
  {
   "cell_type": "code",
   "execution_count": 5,
   "id": "23443914-7360-42e8-b352-bb76b0b78ddb",
   "metadata": {},
   "outputs": [],
   "source": [
    "# ------------------ Premium Amount ------------------\n",
    "premium_base = {\"Health\": 300, \"Auto\": 500, \"Life\": 400, \"Property\": 450}\n",
    "df[\"Premium_Amount\"] = df.apply(\n",
    "    lambda x: premium_base[x[\"Policy_Type\"]] + (x[\"Customer_Age\"] - 18) * 2 +\n",
    "              (100 if x[\"Risk_Score\"] == \"High\" else (50 if x[\"Risk_Score\"] == \"Medium\" else 0)),\n",
    "    axis=1\n",
    ").round(2)"
   ]
  },
  {
   "cell_type": "code",
   "execution_count": 6,
   "id": "98005dd0-d500-43d3-81fc-e0adf374a63b",
   "metadata": {},
   "outputs": [],
   "source": [
    "# ------------------ Claim Amount ------------------\n",
    "df[\"Claim_Amount\"] = df.apply(\n",
    "    lambda x: np.random.normal(\n",
    "        loc=5000 if x[\"Risk_Score\"] == \"Low\" else (15000 if x[\"Risk_Score\"] == \"Medium\" else 30000),\n",
    "        scale=3000),\n",
    "    axis=1\n",
    ").clip(0, 50000).round(2)\n",
    "\n",
    "# Ensure Premium_Amount is never greater than Claim_Amount\n",
    "df[\"Premium_Amount\"] = df[[\"Premium_Amount\", \"Claim_Amount\"]].min(axis=1)"
   ]
  },
  {
   "cell_type": "code",
   "execution_count": 7,
   "id": "aee0fc0d-61fd-4961-9418-8d98441220fc",
   "metadata": {},
   "outputs": [],
   "source": [
    "# ------------------ Fraudulent Claim ------------------\n",
    "fraud_prob = df[\"Risk_Score\"].map({\"Low\": 0.05, \"Medium\": 0.15, \"High\": 0.4}).clip(0, 1)\n",
    "df[\"Fraudulent_Claim\"] = np.random.binomial(1, fraud_prob)"
   ]
  },
  {
   "cell_type": "code",
   "execution_count": 8,
   "id": "994dadfa-4fd4-4810-976f-ad4505f9e257",
   "metadata": {},
   "outputs": [
    {
     "data": {
      "text/html": [
       "<div>\n",
       "<style scoped>\n",
       "    .dataframe tbody tr th:only-of-type {\n",
       "        vertical-align: middle;\n",
       "    }\n",
       "\n",
       "    .dataframe tbody tr th {\n",
       "        vertical-align: top;\n",
       "    }\n",
       "\n",
       "    .dataframe thead th {\n",
       "        text-align: right;\n",
       "    }\n",
       "</style>\n",
       "<table border=\"1\" class=\"dataframe\">\n",
       "  <thead>\n",
       "    <tr style=\"text-align: right;\">\n",
       "      <th></th>\n",
       "      <th>Policy_ID</th>\n",
       "      <th>Customer_Age</th>\n",
       "      <th>Gender</th>\n",
       "      <th>Policy_Type</th>\n",
       "      <th>Annual_Income</th>\n",
       "      <th>Property_Age</th>\n",
       "      <th>Claim_History</th>\n",
       "      <th>Risk_Score</th>\n",
       "      <th>Premium_Amount</th>\n",
       "      <th>Claim_Amount</th>\n",
       "      <th>Fraudulent_Claim</th>\n",
       "    </tr>\n",
       "  </thead>\n",
       "  <tbody>\n",
       "    <tr>\n",
       "      <th>0</th>\n",
       "      <td>POL100000</td>\n",
       "      <td>56</td>\n",
       "      <td>Female</td>\n",
       "      <td>Health</td>\n",
       "      <td>91465.94</td>\n",
       "      <td>0</td>\n",
       "      <td>2</td>\n",
       "      <td>Medium</td>\n",
       "      <td>426.0</td>\n",
       "      <td>14091.80</td>\n",
       "      <td>0</td>\n",
       "    </tr>\n",
       "    <tr>\n",
       "      <th>1</th>\n",
       "      <td>POL100001</td>\n",
       "      <td>69</td>\n",
       "      <td>Female</td>\n",
       "      <td>Property</td>\n",
       "      <td>99375.03</td>\n",
       "      <td>9</td>\n",
       "      <td>1</td>\n",
       "      <td>Low</td>\n",
       "      <td>552.0</td>\n",
       "      <td>5916.76</td>\n",
       "      <td>1</td>\n",
       "    </tr>\n",
       "    <tr>\n",
       "      <th>2</th>\n",
       "      <td>POL100002</td>\n",
       "      <td>46</td>\n",
       "      <td>Male</td>\n",
       "      <td>Health</td>\n",
       "      <td>79249.71</td>\n",
       "      <td>0</td>\n",
       "      <td>1</td>\n",
       "      <td>Low</td>\n",
       "      <td>356.0</td>\n",
       "      <td>5953.27</td>\n",
       "      <td>0</td>\n",
       "    </tr>\n",
       "    <tr>\n",
       "      <th>3</th>\n",
       "      <td>POL100003</td>\n",
       "      <td>32</td>\n",
       "      <td>Male</td>\n",
       "      <td>Auto</td>\n",
       "      <td>78744.75</td>\n",
       "      <td>7</td>\n",
       "      <td>1</td>\n",
       "      <td>Low</td>\n",
       "      <td>528.0</td>\n",
       "      <td>13882.75</td>\n",
       "      <td>0</td>\n",
       "    </tr>\n",
       "    <tr>\n",
       "      <th>4</th>\n",
       "      <td>POL100004</td>\n",
       "      <td>60</td>\n",
       "      <td>Male</td>\n",
       "      <td>Life</td>\n",
       "      <td>51210.11</td>\n",
       "      <td>0</td>\n",
       "      <td>2</td>\n",
       "      <td>Medium</td>\n",
       "      <td>534.0</td>\n",
       "      <td>10990.53</td>\n",
       "      <td>0</td>\n",
       "    </tr>\n",
       "  </tbody>\n",
       "</table>\n",
       "</div>"
      ],
      "text/plain": [
       "   Policy_ID  Customer_Age  Gender Policy_Type  Annual_Income  Property_Age  \\\n",
       "0  POL100000            56  Female      Health       91465.94             0   \n",
       "1  POL100001            69  Female    Property       99375.03             9   \n",
       "2  POL100002            46    Male      Health       79249.71             0   \n",
       "3  POL100003            32    Male        Auto       78744.75             7   \n",
       "4  POL100004            60    Male        Life       51210.11             0   \n",
       "\n",
       "   Claim_History Risk_Score  Premium_Amount  Claim_Amount  Fraudulent_Claim  \n",
       "0              2     Medium           426.0      14091.80                 0  \n",
       "1              1        Low           552.0       5916.76                 1  \n",
       "2              1        Low           356.0       5953.27                 0  \n",
       "3              1        Low           528.0      13882.75                 0  \n",
       "4              2     Medium           534.0      10990.53                 0  "
      ]
     },
     "execution_count": 8,
     "metadata": {},
     "output_type": "execute_result"
    }
   ],
   "source": [
    "# ------------------ Save or Preview ------------------\n",
    "# Save to CSV\n",
    "df.to_csv(\"Realistic_Insurance_Dataset.csv\", index=False)\n",
    "\n",
    "# Preview\n",
    "df.head()\n"
   ]
  },
  {
   "cell_type": "code",
   "execution_count": null,
   "id": "a7521c49-1061-4f88-bd21-a7571c028b38",
   "metadata": {},
   "outputs": [],
   "source": []
  },
  {
   "cell_type": "code",
   "execution_count": null,
   "id": "9b0b15c3-dde5-4544-a6fb-0adff3a467a4",
   "metadata": {},
   "outputs": [],
   "source": []
  },
  {
   "cell_type": "code",
   "execution_count": null,
   "id": "d72cc007-b90d-4bf1-a2b5-fd60a3342822",
   "metadata": {},
   "outputs": [],
   "source": []
  },
  {
   "cell_type": "code",
   "execution_count": null,
   "id": "7244b305-21f8-4022-89d6-ea31596ac784",
   "metadata": {},
   "outputs": [],
   "source": []
  },
  {
   "cell_type": "code",
   "execution_count": null,
   "id": "311ddd72-3e26-4bf4-a1ca-b8967cffdd3a",
   "metadata": {},
   "outputs": [],
   "source": []
  },
  {
   "cell_type": "code",
   "execution_count": null,
   "id": "17d6f44e-649b-4ede-9d4a-f46e0b5c57ce",
   "metadata": {},
   "outputs": [],
   "source": []
  },
  {
   "cell_type": "code",
   "execution_count": null,
   "id": "9af83895-a4dd-415f-9cda-bd17c1e28746",
   "metadata": {},
   "outputs": [],
   "source": []
  }
 ],
 "metadata": {
  "kernelspec": {
   "display_name": "Python 3 (ipykernel)",
   "language": "python",
   "name": "python3"
  },
  "language_info": {
   "codemirror_mode": {
    "name": "ipython",
    "version": 3
   },
   "file_extension": ".py",
   "mimetype": "text/x-python",
   "name": "python",
   "nbconvert_exporter": "python",
   "pygments_lexer": "ipython3",
   "version": "3.11.7"
  }
 },
 "nbformat": 4,
 "nbformat_minor": 5
}
